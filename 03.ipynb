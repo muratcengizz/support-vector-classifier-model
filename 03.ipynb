{
 "cells": [
  {
   "cell_type": "markdown",
   "id": "73c3e725-c0aa-437a-bb52-08e0849c08db",
   "metadata": {},
   "source": [
    "# Support Vector Classifier (SVC)"
   ]
  },
  {
   "cell_type": "code",
   "execution_count": 11,
   "id": "5e1f8dac-c94c-44a7-8e19-28ad199a544f",
   "metadata": {},
   "outputs": [],
   "source": [
    "import numpy as np\n",
    "import pandas as pd\n",
    "import seaborn as sns\n",
    "import matplotlib.pyplot as plt\n",
    "from sklearn.svm import SVC\n",
    "from sklearn.model_selection import train_test_split, cross_val_score, GridSearchCV\n",
    "from sklearn.metrics import accuracy_score, confusion_matrix"
   ]
  },
  {
   "cell_type": "code",
   "execution_count": 2,
   "id": "29306a15-61cd-4645-826c-fadc0567bc08",
   "metadata": {},
   "outputs": [],
   "source": [
    "# Veri seti oluşturalım.\n",
    "X = np.random.rand(100, 2)\n",
    "y = np.random.choice([0, 1], 100)"
   ]
  },
  {
   "cell_type": "code",
   "execution_count": 3,
   "id": "1bac63be-4104-4a80-9b2a-791564056dea",
   "metadata": {},
   "outputs": [
    {
     "data": {
      "image/png": "[encoded data removed]",
      "text/plain": [
       "<Figure size 432x288 with 1 Axes>"
      ]
     },
     "metadata": {
      "needs_background": "light"
     },
     "output_type": "display_data"
    }
   ],
   "source": [
    "plt.scatter(X[:, 0], X[:, 1], c=y)\n",
    "plt.title('Veri Setini Görselleştirelim.')\n",
    "plt.xlabel('Feature 1')\n",
    "plt.ylabel('Feature 2')\n",
    "plt.show()"
   ]
  },
  {
   "cell_type": "code",
   "execution_count": 4,
   "id": "12c4dbe7-3ed5-463d-b7b4-19d7bf6452c3",
   "metadata": {},
   "outputs": [],
   "source": [
    "# Eğitim ve test setlerini ayıralım.\n",
    "X_train, X_test, y_train, y_test = train_test_split(X, y, test_size=0.2, random_state=42)"
   ]
  },
  {
   "cell_type": "code",
   "execution_count": 5,
   "id": "e5f4b99f-bb89-4615-84fd-ebf78f32656d",
   "metadata": {},
   "outputs": [
    {
     "name": "stdout",
     "output_type": "stream",
     "text": [
      "Eğitim Veri Seti Sınıf Dağılımı:\n",
      "Sınıf 0: 47 örnek\n",
      "Sınıf 1: 33 örnek\n"
     ]
    }
   ],
   "source": [
    "# Eğitim veri setindeki sınıf dağılımını inceleyelim.\n",
    "class_count = np.bincount(y_train)\n",
    "print('Eğitim Veri Seti Sınıf Dağılımı:')\n",
    "print(f'Sınıf 0: {class_count[0]} örnek')\n",
    "print(f'Sınıf 1: {class_count[1]} örnek')"
   ]
  },
  {
   "cell_type": "code",
   "execution_count": 6,
   "id": "6f03e734-3b84-4a5b-a5f2-ac6afed40f5b",
   "metadata": {},
   "outputs": [],
   "source": [
    "# Model kuralım.\n",
    "model = SVC().fit(X_train, y_train)"
   ]
  },
  {
   "cell_type": "code",
   "execution_count": 7,
   "id": "6c9ce117-af3b-45aa-8e23-ab4027aa633f",
   "metadata": {},
   "outputs": [],
   "source": [
    "# Tahmin yapalım.\n",
    "predict = model.predict(X_test)"
   ]
  },
  {
   "cell_type": "code",
   "execution_count": 9,
   "id": "d45b944c-b8e2-46ee-be6c-226c54f9a997",
   "metadata": {},
   "outputs": [
    {
     "name": "stdout",
     "output_type": "stream",
     "text": [
      "Model Doğruluğu:  0.65\n"
     ]
    }
   ],
   "source": [
    "# Modeli Değerlendirelim.\n",
    "accuracy = accuracy_score(y_test, predict)\n",
    "print('Model Doğruluğu: ', accuracy)"
   ]
  },
  {
   "cell_type": "markdown",
   "id": "2ca72208-3c4d-4e83-a41c-741a964b3c4a",
   "metadata": {},
   "source": [
    "# Model Tuning"
   ]
  },
  {
   "cell_type": "code",
   "execution_count": 18,
   "id": "0e80e430-c9f4-47ab-b2d4-473264948a91",
   "metadata": {},
   "outputs": [
    {
     "name": "stdout",
     "output_type": "stream",
     "text": [
      "Best Parameters:  {'C': 1.0, 'coef0': 0.0, 'degree': 3, 'kernel': 'poly'}\n"
     ]
    }
   ],
   "source": [
    "params = {\n",
    "    'C': [0.5, 0.7, 1.0, 1.5, 2.0],\n",
    "    'kernel': ['linear', 'poly', 'rbf', 'sigmoid'],\n",
    "    'coef0': [0.0, 0.1, 0.3, 0.5],\n",
    "    'degree': [2, 3, 4, 5]\n",
    "}\n",
    "\n",
    "grid = GridSearchCV(estimator=model, param_grid=params, cv=5).fit(X_train, y_train)\n",
    "best_params = grid.best_params_\n",
    "print('Best Parameters: ', best_params)"
   ]
  },
  {
   "cell_type": "code",
   "execution_count": 19,
   "id": "f45535ea-d8e6-4b74-91f1-ef4503ffa8f9",
   "metadata": {},
   "outputs": [
    {
     "name": "stdout",
     "output_type": "stream",
     "text": [
      "Accuracy Score:  0.75\n"
     ]
    }
   ],
   "source": [
    "model = SVC(**best_params).fit(X_train, y_train)\n",
    "predict = model.predict(X_test)\n",
    "accuracy = accuracy_score(y_test, predict)\n",
    "print('Accuracy Score: ', accuracy)"
   ]
  },
  {
   "cell_type": "code",
   "execution_count": 20,
   "id": "e2030741-0ef2-4a63-8173-abe91b73bdd6",
   "metadata": {},
   "outputs": [
    {
     "name": "stdout",
     "output_type": "stream",
     "text": [
      "Skorlar:  [0.55 0.65 0.6  0.65 0.55]\n",
      "Skorlar Ortalaması:  0.6\n"
     ]
    }
   ],
   "source": [
    "# Model Doğrulama\n",
    "score = cross_val_score(model, X, y, cv=5)\n",
    "print('Skorlar: ', score)\n",
    "print('Skorlar Ortalaması: ', score.mean())"
   ]
  },
  {
   "cell_type": "code",
   "execution_count": null,
   "id": "f5f77943-4c28-4810-bf1f-446a4dcac84b",
   "metadata": {},
   "outputs": [],
   "source": []
  },
  {
   "cell_type": "code",
   "execution_count": 22,
   "id": "109a66e2-668d-4a00-a40f-1a45f5e8e0e8",
   "metadata": {},
   "outputs": [
    {
     "data": {
      "text/plain": [
       "array([0, 0, 0, 0, 0, 1, 0, 0, 0, 1, 1, 0, 0, 0, 0, 1, 0, 0, 0, 1])"
      ]
     },
     "execution_count": 22,
     "metadata": {},
     "output_type": "execute_result"
    }
   ],
   "source": [
    "predict"
   ]
  },
  {
   "cell_type": "code",
   "execution_count": 23,
   "id": "5ebaf026-fd53-4ce8-a052-50be9d228802",
   "metadata": {},
   "outputs": [
    {
     "data": {
      "text/plain": [
       "array([0, 0, 1, 0, 0, 1, 0, 0, 0, 0, 1, 0, 0, 0, 1, 0, 0, 0, 1, 1])"
      ]
     },
     "execution_count": 23,
     "metadata": {},
     "output_type": "execute_result"
    }
   ],
   "source": [
    "y_test"
   ]
  },
  {
   "cell_type": "code",
   "execution_count": 28,
   "id": "af2e2b4e-89b9-4461-948a-ae95b155f93a",
   "metadata": {},
   "outputs": [
    {
     "name": "stdout",
     "output_type": "stream",
     "text": [
      "[[12  2]\n",
      " [ 3  3]]\n"
     ]
    }
   ],
   "source": [
    "confusion = confusion_matrix(y_test, predict)\n",
    "print(confusion)"
   ]
  },
  {
   "cell_type": "code",
   "execution_count": 30,
   "id": "a47983a3-62cb-4759-b1ec-1f6e36e0a75d",
   "metadata": {},
   "outputs": [
    {
     "data": {
      "text/plain": [
       "20"
      ]
     },
     "execution_count": 30,
     "metadata": {},
     "output_type": "execute_result"
    }
   ],
   "source": [
    "predict.size"
   ]
  },
  {
   "cell_type": "markdown",
   "id": "09f1f5bb-a521-4bd9-a9dc-5c3e947e236d",
   "metadata": {},
   "source": [
    "# Sonuç\n",
    "\n",
    "### Veri setini kendimiz oluşturduğumuz için gerçek hayat senaryosu değildir. Amacımız pratik yapmaktır. Doğrusal olmayan karışık bir veri setine sahip olmamıza rağmen 20 tahminden 15'i doğru. Fena olmayan bir sonuç diyebilirim."
   ]
  }
 ],
 "metadata": {
  "kernelspec": {
   "display_name": "Python 3 (ipykernel)",
   "language": "python",
   "name": "python3"
  },
  "language_info": {
   "codemirror_mode": {
    "name": "ipython",
    "version": 3
   },
   "file_extension": ".py",
   "mimetype": "text/x-python",
   "name": "python",
   "nbconvert_exporter": "python",
   "pygments_lexer": "ipython3",
   "version": "3.9.12"
  }
 },
 "nbformat": 4,
 "nbformat_minor": 5
}
